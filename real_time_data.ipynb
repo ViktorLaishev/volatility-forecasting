{
 "cells": [
  {
   "cell_type": "code",
   "execution_count": 7,
   "id": "c85d0d6d-d8ac-4222-9ff4-cfb0128cd7ea",
   "metadata": {},
   "outputs": [],
   "source": [
    "import yfinance as yf\n",
    "import pandas as pd\n",
    "import time\n",
    "import numpy as np  # Add this line\n"
   ]
  },
  {
   "cell_type": "code",
   "execution_count": 8,
   "id": "ea66802e-0f37-4505-9de8-46f8445958b5",
   "metadata": {},
   "outputs": [],
   "source": [
    "# === Fetch Real-Time Market Data ===\n",
    "def fetch_market_data(ticker, period=\"5y\", interval=\"1d\"):\n",
    "    print(f\"Fetching data for {ticker}...\")\n",
    "    data = yf.download(ticker, period=period, interval=interval)\n",
    "    data[\"Log_Returns\"] = (data[\"Close\"] / data[\"Close\"].shift(1)).apply(lambda x: np.log(x))\n",
    "    data.dropna(inplace=True)\n",
    "    return data\n",
    "\n",
    "# Define assets to track\n",
    "assets = {\n",
    "    \"S&P 500\": \"SPY\",\n",
    "    \"Gold\": \"GLD\",\n",
    "    \"Bitcoin\": \"BTC-USD\"\n",
    "}"
   ]
  },
  {
   "cell_type": "code",
   "execution_count": 9,
   "id": "9c58f9dd-0c67-44fc-8f9d-ce252ff4eb1b",
   "metadata": {},
   "outputs": [
    {
     "name": "stderr",
     "output_type": "stream",
     "text": [
      "[*********************100%***********************]  1 of 1 completed"
     ]
    },
    {
     "name": "stdout",
     "output_type": "stream",
     "text": [
      "Fetching data for SPY...\n",
      "Fetching data for GLD...\n"
     ]
    },
    {
     "name": "stderr",
     "output_type": "stream",
     "text": [
      "\n",
      "[*********************100%***********************]  1 of 1 completed\n",
      "[*********************100%***********************]  1 of 1 completed"
     ]
    },
    {
     "name": "stdout",
     "output_type": "stream",
     "text": [
      "Fetching data for BTC-USD...\n"
     ]
    },
    {
     "name": "stderr",
     "output_type": "stream",
     "text": [
      "\n"
     ]
    }
   ],
   "source": [
    "dataframes = {asset: fetch_market_data(ticker) for asset, ticker in assets.items()}"
   ]
  },
  {
   "cell_type": "code",
   "execution_count": 10,
   "id": "10406046-6555-4bd4-8111-571ab4a75d14",
   "metadata": {},
   "outputs": [
    {
     "name": "stdout",
     "output_type": "stream",
     "text": [
      "Saved: real_time_S&P_500.csv\n",
      "Saved: real_time_Gold.csv\n",
      "Saved: real_time_Bitcoin.csv\n",
      "✅ Real-time market data fetched and saved!\n"
     ]
    }
   ],
   "source": [
    "# Save the data to CSVs\n",
    "for asset, df in dataframes.items():\n",
    "    df.to_csv(f\"real_time_{asset.replace(' ', '_')}.csv\")\n",
    "    print(f\"Saved: real_time_{asset.replace(' ', '_')}.csv\")\n",
    "\n",
    "print(\"✅ Real-time market data fetched and saved!\")"
   ]
  },
  {
   "cell_type": "code",
   "execution_count": null,
   "id": "62d9d472-a92a-4d4f-b476-602d08f99b43",
   "metadata": {},
   "outputs": [],
   "source": []
  }
 ],
 "metadata": {
  "kernelspec": {
   "display_name": "Python 3 (ipykernel)",
   "language": "python",
   "name": "python3"
  },
  "language_info": {
   "codemirror_mode": {
    "name": "ipython",
    "version": 3
   },
   "file_extension": ".py",
   "mimetype": "text/x-python",
   "name": "python",
   "nbconvert_exporter": "python",
   "pygments_lexer": "ipython3",
   "version": "3.8.10"
  }
 },
 "nbformat": 4,
 "nbformat_minor": 5
}
